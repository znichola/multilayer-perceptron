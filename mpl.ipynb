{
 "cells": [
  {
   "cell_type": "markdown",
   "id": "065247b3-67f8-461d-9ef6-47cc9a4688ca",
   "metadata": {},
   "source": [
    "how to solve this thing?\n",
    "\n",
    "I need to do the process of a nural net. It's not that complicated but requiers a bit of finageling.\n",
    "\n",
    "We start with splitting the data into train and validate sets.\n",
    "\n",
    "Then we need to create the nural net that will run the calculations.\n",
    "\n",
    "We will copy the pytorch interface\n",
    "\n",
    "you have a Modle class, this encapuslates everything\n",
    "\n"
   ]
  },
  {
   "cell_type": "code",
   "execution_count": null,
   "id": "5038753f-f084-469d-a01d-fa689167c90d",
   "metadata": {},
   "outputs": [],
   "source": []
  }
 ],
 "metadata": {
  "kernelspec": {
   "display_name": "Python 3 (ipykernel)",
   "language": "python",
   "name": "python3"
  }
 },
 "nbformat": 4,
 "nbformat_minor": 5
}
